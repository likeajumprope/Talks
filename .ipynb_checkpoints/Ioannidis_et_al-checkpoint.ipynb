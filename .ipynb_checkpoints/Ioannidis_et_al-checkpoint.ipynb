{
 "cells": [
  {
   "cell_type": "markdown",
   "id": "263b9d9b",
   "metadata": {},
   "source": [
    "---\n",
    "title: \"Why most published research findings are false\"\n",
    "author: \"Johanna Bayer\"\n",
    "incremental: true\n",
    "format: \n",
    "    revealjs:\n",
    "        theme: sky\n",
    "        footer: \"SIN SEMINAR\"\n",
    "\n",
    "---\n",
    "\n",
    "## Replication crisis {.scrollable}\n",
    "\n",
    "- Reason: findings assessed on p < 0.05 of a single study\n",
    "\n",
    "- Let R be the ratio of \"true relationships\" and \"no relationships\" of all those tested in a field.\n",
    "\n",
    "- But: the probability of a test determiing that a finding is true depends on:\n",
    "  - Prior probability of a finding being true $\\frac{R}{R+1}$\n",
    "  - power of the study $1-\\beta$\n",
    "  - signifcance level $\\alpha$\n",
    "    \n",
    "\n",
    "## Going to sleep\n",
    "\n",
    "- Get in bed\n",
    "- Count sheep\n",
    "\n",
    "## Tabs\n",
    "\n",
    "::: {.panel-tabset}\n",
    "\n",
    "### Tab A\n",
    "\n",
    "Content for `Tab A`\n",
    "\n",
    "### Tab B\n",
    "\n",
    "Content for `Tab B`\n",
    "\n",
    ":::"
   ]
  },
  {
   "cell_type": "code",
   "execution_count": null,
   "id": "8ddd86d3",
   "metadata": {},
   "outputs": [],
   "source": []
  }
 ],
 "metadata": {
  "kernelspec": {
   "display_name": "Python 3 (ipykernel)",
   "language": "python",
   "name": "python3"
  },
  "language_info": {
   "codemirror_mode": {
    "name": "ipython",
    "version": 3
   },
   "file_extension": ".py",
   "mimetype": "text/x-python",
   "name": "python",
   "nbconvert_exporter": "python",
   "pygments_lexer": "ipython3",
   "version": "3.12.2"
  }
 },
 "nbformat": 4,
 "nbformat_minor": 5
}
